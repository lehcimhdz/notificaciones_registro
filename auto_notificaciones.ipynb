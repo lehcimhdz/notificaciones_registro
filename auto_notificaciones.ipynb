{
 "cells": [
  {
   "cell_type": "code",
   "execution_count": 80,
   "id": "de5b7d05-d53e-4285-b9b2-89309f36fc2d",
   "metadata": {},
   "outputs": [],
   "source": [
    "# Cargar librerías\n",
    "\n",
    "import pandas as pd\n",
    "import pywhatkit as kit\n",
    "from datetime import datetime, timedelta\n",
    "import time\n",
    "import os\n",
    "from google.oauth2.service_account import Credentials\n",
    "from googleapiclient.discovery import build\n",
    "from google_auth_oauthlib.flow import InstalledAppFlow\n",
    "import os\n",
    "import locale"
   ]
  },
  {
   "cell_type": "markdown",
   "id": "be151063-85e7-4b1f-85b0-6ca0682bf8bb",
   "metadata": {},
   "source": [
    "# Se establece la base de datos"
   ]
  },
  {
   "cell_type": "code",
   "execution_count": 54,
   "id": "0e406cfd-2e17-47d4-ab53-2791e01d03a3",
   "metadata": {},
   "outputs": [
    {
     "data": {
      "text/plain": [
       "'es_ES'"
      ]
     },
     "execution_count": 54,
     "metadata": {},
     "output_type": "execute_result"
    }
   ],
   "source": [
    "# Se establece el idioma español\n",
    "\n",
    "locale.setlocale(locale.LC_TIME, 'es_ES')"
   ]
  },
  {
   "cell_type": "code",
   "execution_count": 55,
   "id": "b48e80dc-7d97-4bc8-becb-40861ef4d565",
   "metadata": {},
   "outputs": [],
   "source": [
    "# Cargar base de datos, agregar y modificar columnas\n",
    "\n",
    "df = pd.read_csv(\"notificaciones.csv\", encoding=\"latin1\")\n",
    "df['telefono'] = df['telefono'].apply(lambda x: f\"+{x}\")\n",
    "df[\"titulo\"] = df[\"victima_directa\"].apply(lambda x: f\"Notificación de Registro VD {x}\")\n",
    "df[\"fecha\"] = pd.to_datetime(df[\"dia_notificacion\"], format='%d de %B de %Y', errors='coerce', dayfirst=True)\n",
    "df[\"fecha\"] = df[\"fecha\"].dt.strftime('%Y-%m-%d')\n",
    "df[\"hora_notificacion\"] = pd.to_datetime(df[\"hora_notificacion\"], format=\"%H:%M:%S\").dt.time\n",
    "df[\"fecha_inicio\"] = df.apply(lambda row: f\"{row[\"fecha\"]}T{row[\"hora_notificacion\"]}\", axis=1)\n",
    "df[\"fecha_inicio\"] = pd.to_datetime(df[\"fecha_inicio\"])\n",
    "df[\"fecha_fin\"] = df[\"fecha_inicio\"] + pd.Timedelta(minutes=59)"
   ]
  },
  {
   "cell_type": "code",
   "execution_count": 56,
   "id": "ebc72600-6168-48a5-826a-2bfdc73eca82",
   "metadata": {},
   "outputs": [
    {
     "data": {
      "text/plain": [
       "'C/UTF-8/C/C/C/C'"
      ]
     },
     "execution_count": 56,
     "metadata": {},
     "output_type": "execute_result"
    }
   ],
   "source": [
    "# Se vuelve a establecer el idioma default\n",
    "\n",
    "locale.setlocale(locale.LC_ALL, '')"
   ]
  },
  {
   "cell_type": "markdown",
   "id": "852db93d-a806-43ca-9d70-7bd3739dee1c",
   "metadata": {},
   "source": [
    "# Mandar whatsapps automáticos"
   ]
  },
  {
   "cell_type": "code",
   "execution_count": 3,
   "id": "c9370aca-cba6-4548-8700-44e7d70541b8",
   "metadata": {},
   "outputs": [],
   "source": [
    "# Definir función para envíar mensaje\n",
    "\n",
    "def enviar_mensaje(numero, mensaje):\n",
    "    try:\n",
    "        kit.sendwhatmsg(numero, mensaje, tiempo_envio.hour, tiempo_envio.minute)  # Envía el mensaje en el tiempo programado\n",
    "        print(f'Mensaje enviado a {numero}')\n",
    "        time.sleep(10)  # Espera 2 segundos entre cada mensaje para evitar problemas con pywhatkit\n",
    "    except Exception as e:\n",
    "        print(f'Error al enviar mensaje a {numero}: {e}')\n"
   ]
  },
  {
   "cell_type": "code",
   "execution_count": 4,
   "id": "dc00d149-9a64-4123-97bc-ccd3b8cf0bd5",
   "metadata": {},
   "outputs": [
    {
     "name": "stdout",
     "output_type": "stream",
     "text": [
      "Esperando 25 segundos para cargar WhatsApp Web...\n"
     ]
    }
   ],
   "source": [
    "# Se define el tiempo de espera\n",
    "\n",
    "now = datetime.now()\n",
    "tiempo_envio = now + timedelta(seconds=60)\n",
    "print(\"Esperando 25 segundos para cargar WhatsApp Web...\")\n",
    "time.sleep(30)"
   ]
  },
  {
   "cell_type": "code",
   "execution_count": 5,
   "id": "3cbc6182-e1e0-450b-a855-e672a4cecc03",
   "metadata": {},
   "outputs": [
    {
     "name": "stdout",
     "output_type": "stream",
     "text": [
      "Error al enviar mensaje a +520000000000: Call Time must be Greater than Wait Time as WhatsApp Web takes some Time to Load!\n",
      "In 50 Seconds WhatsApp will open and after 15 Seconds Message will be Delivered!\n",
      "Mensaje enviado a +520000000000\n",
      "In 34 Seconds WhatsApp will open and after 15 Seconds Message will be Delivered!\n",
      "Mensaje enviado a +520000000000\n",
      "In 34 Seconds WhatsApp will open and after 15 Seconds Message will be Delivered!\n",
      "Mensaje enviado a +520000000000\n",
      "In 35 Seconds WhatsApp will open and after 15 Seconds Message will be Delivered!\n",
      "Mensaje enviado a +520000000000\n",
      "In 35 Seconds WhatsApp will open and after 15 Seconds Message will be Delivered!\n",
      "Mensaje enviado a +520000000000\n",
      "In 34 Seconds WhatsApp will open and after 15 Seconds Message will be Delivered!\n",
      "Mensaje enviado a +520000000000\n",
      "In 35 Seconds WhatsApp will open and after 15 Seconds Message will be Delivered!\n",
      "Mensaje enviado a +520000000000\n",
      "In 34 Seconds WhatsApp will open and after 15 Seconds Message will be Delivered!\n",
      "Mensaje enviado a +520000000000\n",
      "In 35 Seconds WhatsApp will open and after 15 Seconds Message will be Delivered!\n",
      "Mensaje enviado a +520000000000\n"
     ]
    }
   ],
   "source": [
    "# Se itera sobre cada número para mandar el mensaje\n",
    "\n",
    "for index, row in df.iterrows():\n",
    "    mensaje = f\"\"\"\n",
    "    Buenas tardes. Le escribe [Nombre Genérico], con cargo Enlace de Seguimiento a Fiscalías \"A\" en la CEAVI. (Esa información puede corroborarla en el sitio [URL Genérica])\n",
    "\n",
    "    El motivo de este mensaje es para citarlos a una diligencia de NOTIFICACIÓN de su inscripción en el Registro de Víctimas de la Ciudad de México por los hechos victimizantes radicados en el expediente {row['numero_expediente']}, en relación con la víctima directa {row['victima_directa']}.\n",
    "\n",
    "    Esta se llevaría a cabo el día {row['dia_notificacion']}, a las {row['hora_notificacion']} en las instalaciones de la CEAVI ubicadas en la [Dirección Genérica].\n",
    "\n",
    "    Le informo que este número telefónico de contacto y demás datos personales fueron proporcionados en el respectivo Formato Único de Declaración mediante el cuál se realizó la solicitud de inscripción en el Registro.\n",
    "    \"\"\"\n",
    "    \n",
    "    try:\n",
    "        enviar_mensaje(row['telefono'], mensaje)\n",
    "        \n",
    "        tiempo_envio += timedelta(seconds=60)\n",
    "        \n",
    "    except Exception as e:\n",
    "        print(f'Error al enviar mensaje a {row[\"telefono\"]}: {e}')"
   ]
  },
  {
   "cell_type": "markdown",
   "id": "71322813-63ea-4f53-8213-b15139038407",
   "metadata": {},
   "source": [
    "# Agendar citas automáticas en Google Calendar"
   ]
  },
  {
   "cell_type": "code",
   "execution_count": 91,
   "id": "d85197a7-0a72-4e33-9312-f035617b0cb2",
   "metadata": {},
   "outputs": [],
   "source": [
    "# Se accede a la API\n",
    "\n",
    "SCOPES = ['https://www.googleapis.com/auth/calendar']\n",
    "INVITADOS = [\"...@gmail.com\", \"...@gmail.com\"]"
   ]
  },
  {
   "cell_type": "code",
   "execution_count": 92,
   "id": "ee00f4f8-4f26-4e6e-b2be-27a532edb3e4",
   "metadata": {},
   "outputs": [],
   "source": [
    "# Se crea la función para obtener el servicio\n",
    "\n",
    "def obtener_servicio():\n",
    "    creds = None\n",
    "    if os.path.exists('Llaves/oauth.json'):\n",
    "        flow = InstalledAppFlow.from_client_secrets_file('Llaves/oauth.json', SCOPES)\n",
    "        creds = flow.run_local_server(port=0)\n",
    "        with open('Llaves/llave.json', 'w') as token:\n",
    "            token.write(creds.to_json())\n",
    "    else:\n",
    "        creds = Credentials.from_service_account_file('Llaves/llave.json', scopes=SCOPES)\n",
    "    return build('calendar', 'v3', credentials=creds)"
   ]
  },
  {
   "cell_type": "code",
   "execution_count": 93,
   "id": "6bddd06e-0851-4569-8f60-9e73009031b9",
   "metadata": {},
   "outputs": [],
   "source": [
    "# Definir función para agendar el evento\n",
    "\n",
    "def agendar_evento(servicio, evento):\n",
    "    evento_creado = servicio.events().insert(calendarId='primary', body=evento).execute()\n",
    "    print('Evento creado: %s' % (evento_creado.get('htmlLink')))"
   ]
  },
  {
   "cell_type": "code",
   "execution_count": 94,
   "id": "ff638f54-5a49-4b32-bd73-a2d763ba1889",
   "metadata": {},
   "outputs": [
    {
     "name": "stdout",
     "output_type": "stream",
     "text": [
      "Please visit this URL to authorize this application: https://accounts.google.com/o/oauth2/auth?response_type=code&client_id=936084092481-m92dmfpahg4igu51k3rc09n5ab7jo1rc.apps.googleusercontent.com&redirect_uri=http%3A%2F%2Flocalhost%3A58695%2F&scope=https%3A%2F%2Fwww.googleapis.com%2Fauth%2Fcalendar&state=NhhodjK2YiHKr2NefSFRFFkZGnQKH8&access_type=offline\n"
     ]
    }
   ],
   "source": [
    "# Se accede al servicio de Google\n",
    "\n",
    "servicio = obtener_servicio()"
   ]
  },
  {
   "cell_type": "code",
   "execution_count": 95,
   "id": "951ee8fc-3a2b-49c1-b66a-a6ab323901f8",
   "metadata": {},
   "outputs": [
    {
     "name": "stdout",
     "output_type": "stream",
     "text": [
      "Evento creado: https://www.google.com/calendar/event?eid=YXQ3cGNzaDllaGVtYm9ubWFwaXRoaDIwdjQgcmV2aWNlYXZpQGNkbXguZ29iLm14\n",
      "Evento creado: https://www.google.com/calendar/event?eid=aWYxYnZzazJmODJlOWVlcTN1NHI1MWlrODggcmV2aWNlYXZpQGNkbXguZ29iLm14\n",
      "Evento creado: https://www.google.com/calendar/event?eid=YWE4MWRnNzJjbW5uYWhma25rcWdhYWk2cWMgcmV2aWNlYXZpQGNkbXguZ29iLm14\n",
      "Evento creado: https://www.google.com/calendar/event?eid=NTYybmFzbTg5aW1mOWFyNHFoNnRpYWJzNWcgcmV2aWNlYXZpQGNkbXguZ29iLm14\n",
      "Evento creado: https://www.google.com/calendar/event?eid=Zzc4YXA4ZHBkOTN1cmpyazFhaGEzazR0ajggcmV2aWNlYXZpQGNkbXguZ29iLm14\n",
      "Evento creado: https://www.google.com/calendar/event?eid=MTcwczg5MXV2cHBqNjd1aGkxZWZldDF1bG8gcmV2aWNlYXZpQGNkbXguZ29iLm14\n",
      "Evento creado: https://www.google.com/calendar/event?eid=aHJiazBmbzc3Zm9vMGpsOWNhNjlzaGpqb28gcmV2aWNlYXZpQGNkbXguZ29iLm14\n",
      "Evento creado: https://www.google.com/calendar/event?eid=NWNhbWJnanRjb2p2NjVta2Fiazg1cmJtamsgcmV2aWNlYXZpQGNkbXguZ29iLm14\n",
      "Evento creado: https://www.google.com/calendar/event?eid=dGkxdHBjZ3NjbHQ3ZzhxZGlzZ2FvaG0zNWsgcmV2aWNlYXZpQGNkbXguZ29iLm14\n",
      "Evento creado: https://www.google.com/calendar/event?eid=MmI5MnAybjdyNmd1bmVvcWdnM3ZxYjY4djggcmV2aWNlYXZpQGNkbXguZ29iLm14\n"
     ]
    }
   ],
   "source": [
    "# Se genera la función para agendar los eventos\n",
    "\n",
    "for index, row in df.iterrows():\n",
    "    evento = {\n",
    "        'summary': row['titulo'],\n",
    "        'location': 'México',\n",
    "        'description': f'Notificación para {row[\"victima_directa\"]}, expediente {row[\"numero_expediente\"]}.',\n",
    "        'start': {\n",
    "            'dateTime': row['fecha_inicio'].isoformat(),\n",
    "            'timeZone': 'America/Mexico_City',\n",
    "        },\n",
    "        'end': {\n",
    "            'dateTime': row['fecha_fin'].isoformat(),\n",
    "            'timeZone': 'America/Mexico_City',\n",
    "        },\n",
    "        'attendees': [{'email': email} for email in INVITADOS],\n",
    "    }\n",
    "    agendar_evento(servicio, evento)\n"
   ]
  },
  {
   "cell_type": "code",
   "execution_count": null,
   "id": "0a3794ea-4fc5-42f2-88fc-419589d378dc",
   "metadata": {},
   "outputs": [],
   "source": []
  }
 ],
 "metadata": {
  "kernelspec": {
   "display_name": "Python 3 (ipykernel)",
   "language": "python",
   "name": "python3"
  },
  "language_info": {
   "codemirror_mode": {
    "name": "ipython",
    "version": 3
   },
   "file_extension": ".py",
   "mimetype": "text/x-python",
   "name": "python",
   "nbconvert_exporter": "python",
   "pygments_lexer": "ipython3",
   "version": "3.12.2"
  }
 },
 "nbformat": 4,
 "nbformat_minor": 5
}
